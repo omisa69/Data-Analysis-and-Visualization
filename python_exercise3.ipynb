{
  "nbformat": 4,
  "nbformat_minor": 0,
  "metadata": {
    "colab": {
      "provenance": [],
      "include_colab_link": true
    },
    "kernelspec": {
      "name": "python3",
      "display_name": "Python 3"
    },
    "language_info": {
      "name": "python"
    }
  },
  "cells": [
    {
      "cell_type": "markdown",
      "metadata": {
        "id": "view-in-github",
        "colab_type": "text"
      },
      "source": [
        "<a href=\"https://colab.research.google.com/github/omisa69/Data-Analysis-and-Visualization/blob/master/python_exercise3.ipynb\" target=\"_parent\"><img src=\"https://colab.research.google.com/assets/colab-badge.svg\" alt=\"Open In Colab\"/></a>"
      ]
    },
    {
      "cell_type": "markdown",
      "source": [
        "# Sequences"
      ],
      "metadata": {
        "id": "-xEUAO7Lf2pC"
      }
    },
    {
      "cell_type": "markdown",
      "source": [
        "Sequences is a group of data types that stores zero or more values in order, in a sequence. We have seen three examples of sequences, strings, lists and tuples. In this exercise we will use functions that are common to the different data types. We will eventually see a very important property, common to all sequences: They are all *iterable*."
      ],
      "metadata": {
        "id": "yZAwlzynf5Zx"
      }
    },
    {
      "cell_type": "markdown",
      "source": [
        "## Strings"
      ],
      "metadata": {
        "id": "tLAg6wHumSfx"
      }
    },
    {
      "cell_type": "markdown",
      "source": [
        "We have use strings but so far only as constant values. We have seen how strings can be created using literals, formated literals (f-strings) or read from the user.\n",
        "\n",
        "In the following example, `question`, `item` and `reply` are three variables containing strings."
      ],
      "metadata": {
        "id": "enwWnyuNmUPf"
      }
    },
    {
      "cell_type": "code",
      "execution_count": null,
      "metadata": {
        "id": "66MZojm5fx45"
      },
      "outputs": [],
      "source": [
        "question = 'What would you like to order? '\n",
        "item = input(question)\n",
        "reply = f'We are unfortunately out of {item}. It is out of stock at the supplier!'\n",
        "print(reply)"
      ]
    },
    {
      "cell_type": "markdown",
      "source": [
        "### Indexing and Slicing"
      ],
      "metadata": {
        "id": "yRtrMQ8g62hr"
      }
    },
    {
      "cell_type": "markdown",
      "source": [
        "Use indexing and slicing to complete the following code."
      ],
      "metadata": {
        "id": "j4DH_8WD1kaq"
      }
    },
    {
      "cell_type": "code",
      "source": [
        "word = input('Write a word: ')\n",
        "first =          # first character of the string\n",
        "fourth =         # fourth character of the string\n",
        "last =           # last character: remember that we do not know the length of the string!\n",
        "reverse =        # use slicing to reverse the string\n",
        "print(f'The word starts with {first} and ends with {last}.')\n",
        "print(f'The fourth character is {fourth}.')\n",
        "print(f'The reverse is {reverse}.')"
      ],
      "metadata": {
        "id": "9pIlFvSM1lTx"
      },
      "execution_count": null,
      "outputs": []
    },
    {
      "cell_type": "markdown",
      "source": [
        "### Membership Operator"
      ],
      "metadata": {
        "id": "QGLY01hI68OL"
      }
    },
    {
      "cell_type": "markdown",
      "source": [
        "Use the membership operator to complete the following code so that the text `There is no x in the word` is printed if the user gives a word with no x."
      ],
      "metadata": {
        "id": "hdT36VQO5kfN"
      }
    },
    {
      "cell_type": "code",
      "source": [
        "word = input('Write a word that contains the letter x: ')\n",
        "# if the letter x is not in the word\n",
        "  # print the error message"
      ],
      "metadata": {
        "id": "hMhL0G0_6Lg5"
      },
      "execution_count": null,
      "outputs": []
    },
    {
      "cell_type": "markdown",
      "source": [
        "### Iteration"
      ],
      "metadata": {
        "id": "R6de_6kp7LGR"
      }
    },
    {
      "cell_type": "markdown",
      "source": [
        "Strings are iterable, meaning that we can use a for statement to access the characters of the string.\n",
        "\n",
        "The following example prints a string with dots between the characters."
      ],
      "metadata": {
        "id": "le8_OMBvqqKt"
      }
    },
    {
      "cell_type": "code",
      "source": [
        "long_word = 'högskoleingenjörsutbildning'  # college engineering education\n",
        "for letter in long_word:\n",
        "  print(letter, end='.')\n",
        "print()"
      ],
      "metadata": {
        "id": "IDvmt5H7r1Ya"
      },
      "execution_count": null,
      "outputs": []
    },
    {
      "cell_type": "markdown",
      "source": [
        "We can also use the same construct as before with for and range.\n",
        "\n",
        "Complete the following example so that it does the same thing as the code above. Use indexing and the function that returns the number of characters in the string."
      ],
      "metadata": {
        "id": "hvIBQA3NzT7L"
      }
    },
    {
      "cell_type": "code",
      "source": [
        "long_word = 'högskoleingenjörsutbildning'  # college engineering education\n",
        "for i in range(???):   # how many letters does long_word have?\n",
        "  # print the character at position i in long_word, end with a dot\n",
        "print()"
      ],
      "metadata": {
        "id": "NuA7foIM0PHy"
      },
      "execution_count": null,
      "outputs": []
    },
    {
      "cell_type": "markdown",
      "source": [
        "### Immutable"
      ],
      "metadata": {
        "id": "vrEZhOch0f4B"
      }
    },
    {
      "cell_type": "markdown",
      "source": [
        "So far, we have iterated over strings to print their characters, one at a time. We would now like to write code that modifies the string. The following is an unsuccessful attempt to make the vowels of the string to uppercase and the consonants lowercase.\n",
        "\n",
        "Run the code to see what happens. Why does the code fail to change the string?"
      ],
      "metadata": {
        "id": "eTxpdu1BAS6D"
      }
    },
    {
      "cell_type": "code",
      "source": [
        "word = input('Write a word: ')\n",
        "for letter in word:\n",
        "  if letter in 'aeiouy':\n",
        "    letter = letter.upper()\n",
        "  else:\n",
        "    letter = letter.lower()\n",
        "print(word)"
      ],
      "metadata": {
        "id": "62nsyEVPBde8"
      },
      "execution_count": null,
      "outputs": []
    },
    {
      "cell_type": "markdown",
      "source": [
        "Strings are immutable, meaning that they cannot change. It turns out that the variable `letter` only refers to a copy of each one of the characters in the string. When we change its value it does no affect the string, only the local copy of the current character. Rather than trying to modify a string, we will create a new string.\n",
        "\n",
        "Modify the code from the example above so that the vowels of the string are added as uppercase letters to the new string and the consonants of the string are added as lowercase letters."
      ],
      "metadata": {
        "id": "kV7sck8zCtPT"
      }
    },
    {
      "cell_type": "code",
      "source": [
        "word = input('Write a word: ')\n",
        "                                 # add: create a new (empty) string\n",
        "for letter in word:\n",
        "  if letter in 'aeiouy':\n",
        "    letter = letter.upper()      # change: add to the new string\n",
        "  else:\n",
        "    letter = letter.lower()      # change: add to the new string\n",
        "print(word)                      # change: print the new string"
      ],
      "metadata": {
        "id": "Denllk6PDhlp"
      },
      "execution_count": null,
      "outputs": []
    },
    {
      "cell_type": "markdown",
      "source": [
        "But if we cannot change strings, how could we add letters to the new string? In fact, we never add anything to an existing string. A new string is created every time we add something!"
      ],
      "metadata": {
        "id": "YAmTsbBbSYNV"
      }
    },
    {
      "cell_type": "markdown",
      "source": [
        "## Lists and Tuples"
      ],
      "metadata": {
        "id": "uzRaqCQoGKYk"
      }
    },
    {
      "cell_type": "markdown",
      "source": [
        "Whereas strings are sequences of characters, lists and tuples can contain data of different types. Both lists and tuples can even contain data of different types *in the same object*."
      ],
      "metadata": {
        "id": "EzuNKf2HGOoq"
      }
    },
    {
      "cell_type": "code",
      "source": [
        "names = ['Alice', 'Beatrice', 'Cassandra', 'Diana']\n",
        "prices = (12.5, 10, 15.75, 21)\n",
        "my_car = ('Honda', 'gas', 2019)"
      ],
      "metadata": {
        "id": "BrXactTqIAet"
      },
      "execution_count": null,
      "outputs": []
    },
    {
      "cell_type": "markdown",
      "source": [
        "Everything that we have done so far with strings can also be done with lists and tuples. We will therefore focus on functions that are specific to lists and tuples. The difference between lists and tuples is that lists are mutable and tuples are immutable.\n",
        "\n",
        "Complete the following code by calling the appropriate functions and operators."
      ],
      "metadata": {
        "id": "u-iRegTpKEPN"
      }
    },
    {
      "cell_type": "code",
      "source": [
        "lst = [41, 39, 26, 32, 40, 46, 51, 37]\n",
        "first =           # the first element in the list\n",
        "last =            # the last element in the list\n",
        "smallest =        # the smallest element in the list\n",
        "largest =         # the largest element in the list\n",
        "the_sum =         # the sum of the elements in the list\n",
        "number =          # the number of elements in the list\n",
        "print(first, last, smallest, largest, the_sum, number)"
      ],
      "metadata": {
        "id": "M_Vt-s3JLBRr"
      },
      "execution_count": null,
      "outputs": []
    },
    {
      "cell_type": "markdown",
      "source": [
        "Now change the list to a tuple and verify that the functions and operators work with lists as well as tuples."
      ],
      "metadata": {
        "id": "Rx-c2HaVlQX_"
      }
    },
    {
      "cell_type": "markdown",
      "source": [
        "### Iteration"
      ],
      "metadata": {
        "id": "536p9oCRK26q"
      }
    },
    {
      "cell_type": "markdown",
      "source": [
        "Just like for a string, there are two methods for iterating over lists and tuples.\n",
        "\n",
        "Complete the following code so that all the positive elements in the list are printed."
      ],
      "metadata": {
        "id": "rTdlJsnfK5hE"
      }
    },
    {
      "cell_type": "code",
      "source": [
        "lst = [3, 0, -2, 1, 1, -1, -2, 3, 2, 3, 0]\n",
        "for item in lst:\n",
        "  # if the element is positive:\n",
        "    # print item, end with space\n",
        "print()"
      ],
      "metadata": {
        "id": "OGhKhV_mM5pF"
      },
      "execution_count": null,
      "outputs": []
    },
    {
      "cell_type": "markdown",
      "source": [
        "As we have seen with strings, the method above can be used to iterate through a sequence without changing its elements. It works for strings, lists and tuples and is the preferred method *when we can use it*."
      ],
      "metadata": {
        "id": "TjKFHFe7SRvz"
      }
    },
    {
      "cell_type": "markdown",
      "source": [
        "### Mutable"
      ],
      "metadata": {
        "id": "QyIWQYQ9TZIP"
      }
    },
    {
      "cell_type": "markdown",
      "source": [
        "Lists are mutable but tuples are not, so this section is only about lists. In order to modify the elements of a list while iterating over it, we need to use the other method of iteration and refer to the elements using indexing.\n",
        "\n",
        "Complete the following code so that it sets all negative elements in the list to zero."
      ],
      "metadata": {
        "id": "WyzvhhTgTbh1"
      }
    },
    {
      "cell_type": "code",
      "source": [
        "lst = [3, 0, -2, 1, 1, -1, -2, 3, 2, 3, 0]\n",
        "for i in range(???):\n",
        "  # if the current element is negative:\n",
        "    # set the element to 0\n",
        "print(lst)"
      ],
      "metadata": {
        "id": "xZJ43YTzUtNF"
      },
      "execution_count": null,
      "outputs": []
    },
    {
      "cell_type": "markdown",
      "source": [
        "When iterating over the indices of the list, we have direct access to the individual elements and can do what we like with them. However, removing elements during an iteration should always be avoided as this can cause problems in the end of the list, when the number of elements is less than it was when the iteration started."
      ],
      "metadata": {
        "id": "_eK3UvMZU8vk"
      }
    },
    {
      "cell_type": "markdown",
      "source": [
        "### List Comprehension"
      ],
      "metadata": {
        "id": "wVeKaopUXlbu"
      }
    },
    {
      "cell_type": "markdown",
      "source": [
        "A convenient way to create new lists based on existing lists (or sequences) is to use list comprehension.\n",
        "\n",
        "The following example creates a new list containing the same values as the original list but rounded to the nearest integer."
      ],
      "metadata": {
        "id": "n9y7iREbXndU"
      }
    },
    {
      "cell_type": "code",
      "source": [
        "exact_values = [14.32, 13.5, 15.11, 14.89, 15.7, 13.1]\n",
        "approximate_values = [round(x) for x in exact_values]\n",
        "print(approximate_values)"
      ],
      "metadata": {
        "id": "Er1pc2wUbodb"
      },
      "execution_count": null,
      "outputs": []
    },
    {
      "cell_type": "markdown",
      "source": [
        "We can use list comprehension to convert strings to numerical values, for example when reading data from the user.\n",
        "\n",
        "In the following example, we use the string function `split()` to split a string into a list of strings. Inspired by the example above, complete the code below so that each string is converted to `float`."
      ],
      "metadata": {
        "id": "fvrilK6gcTuc"
      }
    },
    {
      "cell_type": "code",
      "source": [
        "measurements = input('Measurements: ')\n",
        "lst_data = measurements.split()       # split is called on the list measurements\n",
        "data = # use list comprehension\n",
        "the_sum = sum(data)\n",
        "print(f'The sum of the measured values is {the_sum}')"
      ],
      "metadata": {
        "id": "EJFx7AWJeBj9"
      },
      "execution_count": null,
      "outputs": []
    },
    {
      "cell_type": "markdown",
      "source": [
        "### Nested Lists"
      ],
      "metadata": {
        "id": "iy8u8mRFhxlV"
      }
    },
    {
      "cell_type": "markdown",
      "source": [
        "A list can contain values of any type, for example lists. Such a construct is called a nested list. Tuples can also be nested but they need to be created all at once, since the content of a tuple cannot change. For this reason, we will here focus on nested lists.\n",
        "\n",
        "We will start by creating a nested list using a literal and print it in a nested for statement."
      ],
      "metadata": {
        "id": "DKDzGeugh0YG"
      }
    },
    {
      "cell_type": "code",
      "source": [
        "matrix = [[1, 2, 3, 4, 5], [2, 4, 6, 8, 10], [3, 6, 9, 12, 15]]\n",
        "for i in range(len(matrix)):            # iterate over each row (a list in the list)\n",
        "  for j in range(len(matrix[i])):       # iterate over each column (an element in the inner lists)\n",
        "    print(f'{matrix[i][j]:4}', end='')  # reserve four characters, end with no space or newline\n",
        "  print()                               # end the current row"
      ],
      "metadata": {
        "id": "dTWzZYUVmQdc"
      },
      "execution_count": null,
      "outputs": []
    },
    {
      "cell_type": "markdown",
      "source": [
        "The list above displays a clear pattern (think multiplication table) and can be created using nested if statements.\n",
        "\n",
        "Complete the following code so that it creates the same nested list as above. Feel fre to re-use the code from before to print the result."
      ],
      "metadata": {
        "id": "ejJs_zy3pQhl"
      }
    },
    {
      "cell_type": "code",
      "source": [
        "matrix = []                 # start with creating an empty list\n",
        "for i in range(1, 4):       # let i take the values 1, 2, 3\n",
        "  matrix.append([])         # add a new row (a new empty list in the list)\n",
        "  for j in range(1, 6):     # let j take the values 1, 2, 3, 4, 5\n",
        "    matrix[-1].append(???)  # add to the end of the (so far) last row: WHAT?\n",
        "print(matrix)"
      ],
      "metadata": {
        "id": "DzY7LQUarAll"
      },
      "execution_count": null,
      "outputs": []
    },
    {
      "cell_type": "markdown",
      "source": [
        "Another way to create nested lists is through list comprehension.\n",
        "\n",
        "Complete the following code with a nested for statement that prints the table on a nice format."
      ],
      "metadata": {
        "id": "y2_tROMuzaD8"
      }
    },
    {
      "cell_type": "code",
      "source": [
        "table = [[str(n) + c for c in 'abcde'] for n in range(1, 4)]"
      ],
      "metadata": {
        "id": "FEYWRLPD_mwU"
      },
      "execution_count": null,
      "outputs": []
    },
    {
      "cell_type": "markdown",
      "source": [
        "Starting from the example above, write code that creates and prints the following table:\n",
        "```\n",
        "1a 2a 3a\n",
        "1b 2b 3b\n",
        "1c 2c 3c\n",
        "1d 2d 3d\n",
        "```\n",
        "\n"
      ],
      "metadata": {
        "id": "HSh67N8SArde"
      }
    },
    {
      "cell_type": "code",
      "source": [
        "table = [[str(n) + c for c in 'abcde'] for n in range(1, 4)]"
      ],
      "metadata": {
        "id": "Cys0qoc-A6D8"
      },
      "execution_count": null,
      "outputs": []
    },
    {
      "cell_type": "markdown",
      "source": [
        "## Exercises\n",
        "Solve the following exercises on your own:\n",
        "\n",
        "* In 1898, the Swedish language was reformed by replacing the letter q against the letter k and the letter w against the letter v. Read a word from the user and create a string where the old spelling has been replaced with the new one."
      ],
      "metadata": {
        "id": "9zMjfn_giGck"
      }
    },
    {
      "cell_type": "code",
      "source": [
        "user_word = input('Give a word with old spelling: ')  # qvinna\n",
        "\n",
        "# Write your code here\n",
        "\n",
        "print(new_spelling)                                   # kvinna"
      ],
      "metadata": {
        "id": "RfJQR54JilPF"
      },
      "execution_count": null,
      "outputs": []
    },
    {
      "cell_type": "markdown",
      "source": [
        "* Multiply all the numbers in a tuple and print the result."
      ],
      "metadata": {
        "id": "zUIwW8riill9"
      }
    },
    {
      "cell_type": "code",
      "source": [
        "data = (3, 1, 4, 3, 2, 2, 1)\n",
        "\n",
        "# Write your code here\n",
        "\n",
        "print(res)      # 3 * 1 * 4 * 3 * 2 * 2 * 1 = 144"
      ],
      "metadata": {
        "id": "M4GR9e-4i0m8"
      },
      "execution_count": null,
      "outputs": []
    },
    {
      "cell_type": "markdown",
      "source": [
        "* Read numbers from the user and create a list of all the non-negative numbers given."
      ],
      "metadata": {
        "id": "_0VUewZOi2HU"
      }
    },
    {
      "cell_type": "code",
      "source": [
        "user_data = input('Give some values: ') # 7 3 -5 0 2 -1 8 -3\n",
        "\n",
        "# Write your code here\n",
        "\n",
        "print(positiva)                    # [7, 3, 0, 2, 8]"
      ],
      "metadata": {
        "id": "DQ9MZIUTi5bn"
      },
      "execution_count": null,
      "outputs": []
    },
    {
      "cell_type": "markdown",
      "source": [
        "* Sum the numbers on each row in the table, represented by a nested list. Create a list of the sums for each one of the rows."
      ],
      "metadata": {
        "id": "Gk1bSe9Ki8tc"
      }
    },
    {
      "cell_type": "code",
      "source": [
        "tabell = [[3, 5, 2], [1, 1, 1], [2, 1, 4], [2, 3, 4]]   # 4 rows, 3 columns\n",
        "\n",
        "# Write your code here\n",
        "\n",
        "print(row_sums)                                         # [10, 3, 7, 9]"
      ],
      "metadata": {
        "id": "NPI3nGPbi9Cb"
      },
      "execution_count": null,
      "outputs": []
    }
  ]
}