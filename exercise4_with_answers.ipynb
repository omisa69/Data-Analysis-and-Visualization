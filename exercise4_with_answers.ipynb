{
  "nbformat": 4,
  "nbformat_minor": 0,
  "metadata": {
    "colab": {
      "provenance": [],
      "include_colab_link": true
    },
    "kernelspec": {
      "name": "python3",
      "display_name": "Python 3"
    },
    "language_info": {
      "name": "python"
    }
  },
  "cells": [
    {
      "cell_type": "markdown",
      "metadata": {
        "id": "view-in-github",
        "colab_type": "text"
      },
      "source": [
        "<a href=\"https://colab.research.google.com/github/omisa69/Data-Analysis-and-Visualization/blob/master/exercise4_with_answers.ipynb\" target=\"_parent\"><img src=\"https://colab.research.google.com/assets/colab-badge.svg\" alt=\"Open In Colab\"/></a>"
      ]
    },
    {
      "cell_type": "markdown",
      "source": [
        "# Functions"
      ],
      "metadata": {
        "id": "FPsrgiNvuGYR"
      }
    },
    {
      "cell_type": "markdown",
      "source": [
        "We use functions to structure our code. It increases the readability and allows us to avoid repetition. Functions can be built-in, found in modules or written specifically for the program."
      ],
      "metadata": {
        "id": "jr_abjH04dnC"
      }
    },
    {
      "cell_type": "markdown",
      "source": [
        "## The Function Definition"
      ],
      "metadata": {
        "id": "xyPtKDoTQc4T"
      }
    },
    {
      "cell_type": "markdown",
      "source": [
        "User-defined functions are created using a function definition and an indented code block. Just like with the if, while and for statements it is through the indentation that we state which code belongs to the function. To increase readability, although not mandatory, it is a good idea to keep a blank line between a function and the surrounding code.\n",
        "\n",
        "All functions must be defined before (higher up in the file) they are called (used). The following code shows how a function is first defined and then called."
      ],
      "metadata": {
        "id": "UrTUkfTRSyCs"
      }
    },
    {
      "cell_type": "code",
      "execution_count": 1,
      "metadata": {
        "id": "iNiRGnOIQSoU",
        "outputId": "bec9dce0-b8c9-4f72-f16e-9f0ee99ea605",
        "colab": {
          "base_uri": "https://localhost:8080/"
        }
      },
      "outputs": [
        {
          "output_type": "stream",
          "name": "stdout",
          "text": [
            "Give a number: 6\n",
            "You say 6. I say double that: 12\n"
          ]
        }
      ],
      "source": [
        "def double_that(x):                     # function definition, x is a parameter\n",
        "  return 2 * x                          # function body\n",
        "\n",
        "number = int(input('Give a number: '))\n",
        "double = double_that(number)            # function call, number is an argument\n",
        "print(f'You say {number}. I say double that: {double}')"
      ]
    },
    {
      "cell_type": "markdown",
      "source": [
        "Write a function with the name `add` that takes two numbers as parameters. The function should return the sum of the two numbers. Place the function in the following code so that the function call works."
      ],
      "metadata": {
        "id": "sTz31sE39Xvh"
      }
    },
    {
      "cell_type": "code",
      "source": [
        "def add(num1, num2):\n",
        "    return num1 + num2\n",
        "\n",
        "\n",
        "\n",
        "\n",
        "number_1 = int(input('Write a number: '))\n",
        "number_2 = int(input('Another one: '))\n",
        "the_sum = add(number_1, number_2)\n",
        "print(f'The sum of {number_1} and {number_2} is {the_sum}.')"
      ],
      "metadata": {
        "id": "auL0E9k9A8KC",
        "outputId": "25f8d94a-4a8f-49d2-b19b-f2bd73ebec22",
        "colab": {
          "base_uri": "https://localhost:8080/"
        }
      },
      "execution_count": 1,
      "outputs": [
        {
          "output_type": "stream",
          "name": "stdout",
          "text": [
            "Write a number: 5\n",
            "Another one: 2\n",
            "The sum of 5 and 2 is 7.\n"
          ]
        }
      ]
    },
    {
      "cell_type": "markdown",
      "source": [
        "Note that in the function `double_that`, the parameter `x` and the argument `number` have different variable names, even though they represent the same value. This is considered good practice, as it reduces the risk of confusion. How did you do in your own function?"
      ],
      "metadata": {
        "id": "3xiBHRMLVD54"
      }
    },
    {
      "cell_type": "markdown",
      "source": [
        "*I used the parameter names num1 and num2, whereas the arguments have different names: number_1 and number_2.*"
      ],
      "metadata": {
        "id": "-XP-j0gGOWZR"
      }
    },
    {
      "cell_type": "markdown",
      "source": [
        "### Return Values"
      ],
      "metadata": {
        "id": "DlEq_t1roo5o"
      }
    },
    {
      "cell_type": "markdown",
      "source": [
        "In our first examples, the function ends with the return of a value, using the keyword `return`. A `return` statement is a common way to end a function but not the only way. If no `return` statement is found, the function call is ended at the end of the function body, when the indented block ends. Whenever a `return` statement is encountered, the function call ends.\n",
        "\n",
        "The following function prints a greeting *or nothing at all*. Call the function with different arguments to test the two possible outcomes."
      ],
      "metadata": {
        "id": "8bld2GLzorCH"
      }
    },
    {
      "cell_type": "code",
      "source": [
        "def print_greeting(name):\n",
        "    if name == '':\n",
        "        return\n",
        "    else:\n",
        "        print(f'Greetings {name}!')\n",
        "\n",
        "print_greeting('Alice')\n",
        "print_greeting('')"
      ],
      "metadata": {
        "id": "97z4q3vGS7_G",
        "outputId": "0acceed0-91b7-403f-9f99-a9ce3a9a5dfe",
        "colab": {
          "base_uri": "https://localhost:8080/"
        }
      },
      "execution_count": 7,
      "outputs": [
        {
          "output_type": "stream",
          "name": "stdout",
          "text": [
            "Greetings Alice!\n"
          ]
        }
      ]
    },
    {
      "cell_type": "markdown",
      "source": [
        "The following function computes the largest and the smallest values in a list, but it is not working as intended. Change the code so that both values are returned."
      ],
      "metadata": {
        "id": "JUK_DYadTM-W"
      }
    },
    {
      "cell_type": "code",
      "source": [
        "def max_and_min(lst):\n",
        "  max_val = max(lst)\n",
        "  min_val = min(lst)\n",
        "  return max_val\n",
        "  return min_val\n",
        "\n",
        "my_list = [4, 8, 1, 7, 5]\n",
        "results = max_and_min(my_list)\n",
        "print(f'Largest and smallest values in the list are {results}.')"
      ],
      "metadata": {
        "id": "ZoXakKhosRaQ",
        "outputId": "cd4039ad-995e-4a2b-aabf-e6f4fb707616",
        "colab": {
          "base_uri": "https://localhost:8080/"
        }
      },
      "execution_count": 27,
      "outputs": [
        {
          "output_type": "stream",
          "name": "stdout",
          "text": [
            "Largest and smallest values in the list are 8.\n"
          ]
        }
      ]
    },
    {
      "cell_type": "code",
      "source": [
        "def max_and_min(lst):\n",
        "    max_val = max(lst)\n",
        "    min_val = min(lst)\n",
        "    return max_val, min_val\n",
        "\n",
        "my_list = [4, 8, 1, 7, 5]\n",
        "results = max_and_min(my_list)\n",
        "\n",
        "print('Largest and smallest values in the list are ', end='')\n",
        "print(*results, sep=', ', end = '.\\n')"
      ],
      "metadata": {
        "id": "VwZ3W6UGP9js",
        "outputId": "c35ea8d7-9766-4391-e25e-484a118c6b5e",
        "colab": {
          "base_uri": "https://localhost:8080/"
        }
      },
      "execution_count": 26,
      "outputs": [
        {
          "output_type": "stream",
          "name": "stdout",
          "text": [
            "Largest and smallest values in the list are 8, 1.\n"
          ]
        }
      ]
    },
    {
      "cell_type": "markdown",
      "source": [
        "## Local and Global Variables"
      ],
      "metadata": {
        "id": "h5ShCElhCtSy"
      }
    },
    {
      "cell_type": "markdown",
      "source": [
        "The function parameters and any variables created inside the function body are local, meaning that they can be used in the function but not outside of it. Local variables disappear when the function call ends.\n",
        "\n",
        "Variables created outside of a function are global. They *can* be used in functions but this can often lead to confusion. Good practice is to communicate with a function through function arguments (input data) and return values (output data). Inside the function, we use only the function parameters and local variables. It is also considered good practice to avoid choosing the same names on local and global variables, once again to avoid confusion.\n",
        "\n",
        "Find and correct the problem in the following code."
      ],
      "metadata": {
        "id": "4y8rRYx-Cyk6"
      }
    },
    {
      "cell_type": "code",
      "source": [
        "def average(lst):\n",
        "  the_sum = sum(data)\n",
        "  n = len(data)\n",
        "  return the_sum / n\n",
        "\n",
        "measurements = input('Measurements: ')\n",
        "lst_data = measurements.split()\n",
        "data = [float(x) for x in lst_data]\n",
        "avg = average(data)\n",
        "print(f'The average of the given values is {avg}')"
      ],
      "metadata": {
        "id": "_e58_jzyC_Sy",
        "colab": {
          "base_uri": "https://localhost:8080/"
        },
        "outputId": "dfcac2d3-3759-4715-9a73-6dbdfc8c6aed"
      },
      "execution_count": 29,
      "outputs": [
        {
          "output_type": "stream",
          "name": "stdout",
          "text": [
            "Measurements: 1.5 2 3\n",
            "The average of the given values is  2.17\n"
          ]
        }
      ]
    },
    {
      "cell_type": "code",
      "source": [
        "def average(lst):\n",
        "  the_sum = sum(lst)\n",
        "  n = len(lst)\n",
        "  return the_sum / n\n",
        "\n",
        "measurements = input('Measurements: ')\n",
        "lst_data = measurements.split()\n",
        "data = [float(x) for x in lst_data]\n",
        "avg = average(data)\n",
        "print(f'The average of the given values is {avg: .2f}')"
      ],
      "metadata": {
        "colab": {
          "base_uri": "https://localhost:8080/"
        },
        "outputId": "0e5ca501-e4c9-4c50-e619-0da2b17f4a67",
        "id": "7kIM_b6TXR1f"
      },
      "execution_count": 32,
      "outputs": [
        {
          "output_type": "stream",
          "name": "stdout",
          "text": [
            "Measurements: 1.5 2 3\n",
            "The average of the given values is  2.17\n"
          ]
        }
      ]
    },
    {
      "cell_type": "markdown",
      "source": [
        "Even if the function does not follow good practice, it is working. So, what is the problem?"
      ],
      "metadata": {
        "id": "jnVJM4Y0oMSw"
      }
    },
    {
      "cell_type": "markdown",
      "source": [
        "*The problem was that in the body of the function average, the variable data was used in the original code, which is a global variable (list). This means that if the function is used with another argument, it will hand in the same output, regardless of what input one hands out.*"
      ],
      "metadata": {
        "id": "lMAWh0vOX-4g"
      }
    },
    {
      "cell_type": "markdown",
      "source": [
        "## Parameters and Arguments"
      ],
      "metadata": {
        "id": "PQErr7bsDG9K"
      }
    },
    {
      "cell_type": "markdown",
      "source": [
        "Parameters are the variable names given in the function definition. Arguments are the input values sent to the function. An argument can be given using a variable or a literal, a constant value in the code."
      ],
      "metadata": {
        "id": "lAbegK697sLf"
      }
    },
    {
      "cell_type": "markdown",
      "source": [
        "### Positional Arguments"
      ],
      "metadata": {
        "id": "1acwQ66EDLPU"
      }
    },
    {
      "cell_type": "markdown",
      "source": [
        "The main rule is that the function parameters are assigned the values of the arguments sent at the function call, in the order they were given.\n",
        "\n",
        "In the following example, there is a mistake. Find the mistake and correct it."
      ],
      "metadata": {
        "id": "q54EJ8ZbDUo0"
      }
    },
    {
      "cell_type": "code",
      "source": [
        "def sale_price(regular_price, reduction_percent):\n",
        "  return regular_price * (1 - reduction_percent / 100)\n",
        "\n",
        "regular_price = int(input('Regular price of the item: '))\n",
        "reduction_percent = int(input('Reduction in percent: '))\n",
        "new_price = sale_price(reduction_percent, regular_price)\n",
        "print(f'The sale price is {new_price}.')"
      ],
      "metadata": {
        "id": "Oaq-XNZxDL16"
      },
      "execution_count": null,
      "outputs": []
    },
    {
      "cell_type": "code",
      "source": [
        "def sale_price(regular_price, reduction_percent):\n",
        "  return regular_price * (1 - reduction_percent / 100)\n",
        "\n",
        "price = int(input('Regular price of the item: ')) #actual arguments are recommended to have different names from parameters\n",
        "discount = int(input('Reduction in percent: '))\n",
        "discounted_price = sale_price(price, discount)\n",
        "print(f'The sale price is {discounted_price: .2f}.')"
      ],
      "metadata": {
        "id": "S-Ds3yj4DFYB",
        "outputId": "31e73302-6401-4fca-b81f-8890baa4adca",
        "colab": {
          "base_uri": "https://localhost:8080/"
        }
      },
      "execution_count": 3,
      "outputs": [
        {
          "output_type": "stream",
          "name": "stdout",
          "text": [
            "Regular price of the item: 150\n",
            "Reduction in percent: 30\n",
            "The sale price is  105.00.\n"
          ]
        }
      ]
    },
    {
      "cell_type": "markdown",
      "source": [
        "In addition to the mistake, the code does not follow good practice. Change it so that it does."
      ],
      "metadata": {
        "id": "WX2iggpB7wqj"
      }
    },
    {
      "cell_type": "markdown",
      "source": [
        "### Keyword Arguments"
      ],
      "metadata": {
        "id": "n2ah88t-DVvR"
      }
    },
    {
      "cell_type": "markdown",
      "source": [
        "If we name the function arguments, they can be given in any order. Any positional arguments used must be given *before* all keyword arguments and all parameters must be given exactly one value.\n",
        "\n",
        "Write a function `divide` that can be called in the following ways."
      ],
      "metadata": {
        "id": "nRtTsGRvDcYS"
      }
    },
    {
      "cell_type": "code",
      "source": [
        "def divide(numerator, denominator):\n",
        "    return numerator / denominator\n",
        "\n",
        "print(divide(6, 3))                        # 6 / 3 = 2\n",
        "print(divide(denominator=2, numerator=8))  # 8 / 2 = 4\n",
        "print(divide(10, denominator=4))           # 10 / 4 = 2.5"
      ],
      "metadata": {
        "id": "xDSy3Ww-KRRF",
        "outputId": "12e0fdaa-f7f1-4c39-afb1-fd34a9000a75",
        "colab": {
          "base_uri": "https://localhost:8080/"
        }
      },
      "execution_count": 6,
      "outputs": [
        {
          "output_type": "stream",
          "name": "stdout",
          "text": [
            "2.0\n",
            "4.0\n",
            "2.5\n"
          ]
        }
      ]
    },
    {
      "cell_type": "markdown",
      "source": [
        "### Default Values"
      ],
      "metadata": {
        "id": "e5T_tyJiDdG1"
      }
    },
    {
      "cell_type": "markdown",
      "source": [
        "A function parameter can be given a default value and can then be left out in the function call.\n",
        "\n",
        "The following function computes the $n^{\\text{th}}$ root of a number $x$, that is $\\sqrt[n]{x}$. Change the function definition so that the function also can be called with a single argument. In that case, the function should compute the square root of the number."
      ],
      "metadata": {
        "id": "Bl3PcOnTDjgZ"
      }
    },
    {
      "cell_type": "code",
      "source": [
        "def root(x, n):\n",
        "  return x ** (1 / n)\n",
        "\n",
        "print(root(2, 2))     # the square root of 2 is 1.41421...\n",
        "print(root(27, 3))    # the third root of 27 is 3\n",
        "print(root(4))        # the square root of 4 is 2"
      ],
      "metadata": {
        "id": "ZDCHM5UVPclq"
      },
      "execution_count": null,
      "outputs": []
    },
    {
      "cell_type": "code",
      "source": [
        "def root(x, n=2):\n",
        "  return x ** (1 / n)\n",
        "\n",
        "print(root(2, 2))     # the square root of 2 is 1.41421...\n",
        "print(root(27, 3))    # the third root of 27 is 3\n",
        "print(root(4))        # the square root of 4 is 2"
      ],
      "metadata": {
        "id": "JPe-WsL-ayek",
        "outputId": "c102586e-a0a9-490f-dd2b-18b81960cc52",
        "colab": {
          "base_uri": "https://localhost:8080/"
        }
      },
      "execution_count": 7,
      "outputs": [
        {
          "output_type": "stream",
          "name": "stdout",
          "text": [
            "1.4142135623730951\n",
            "3.0\n",
            "2.0\n"
          ]
        }
      ]
    },
    {
      "cell_type": "markdown",
      "source": [
        "### Variable Number of Arguments"
      ],
      "metadata": {
        "id": "uvD3cgtYMdnw"
      }
    },
    {
      "cell_type": "markdown",
      "source": [
        "A function can be defined to take a variable number of arguments.\n",
        "\n",
        "The following function operates on a list or a tuple. Change the function definition (the first row), so that the two function calls work."
      ],
      "metadata": {
        "id": "5wVbdDkHMgN8"
      }
    },
    {
      "cell_type": "code",
      "source": [
        "def add_positive(values):\n",
        "  the_sum = 0\n",
        "  for item in values:\n",
        "    if item > 0:\n",
        "      the_sum += item\n",
        "  return the_sum\n",
        "\n",
        "print(add_positive(2, 5, -3, 1, -2))\n",
        "print(add_positive(-1, 1, -1))"
      ],
      "metadata": {
        "id": "iuvrsnMKMhLC"
      },
      "execution_count": null,
      "outputs": []
    },
    {
      "cell_type": "code",
      "source": [
        "def add_positive(*values):\n",
        "  the_sum = 0\n",
        "  for item in values:\n",
        "    if item > 0:\n",
        "      the_sum += item\n",
        "  return the_sum\n",
        "\n",
        "print(add_positive(2, 5, -3, 1, -2))\n",
        "print(add_positive(-1, 1, -1))"
      ],
      "metadata": {
        "outputId": "66722b60-476c-4394-a3f3-604b0a5c416e",
        "colab": {
          "base_uri": "https://localhost:8080/"
        },
        "id": "AIBgiTd-gw44"
      },
      "execution_count": 9,
      "outputs": [
        {
          "output_type": "stream",
          "name": "stdout",
          "text": [
            "8\n",
            "1\n"
          ]
        }
      ]
    },
    {
      "cell_type": "markdown",
      "source": [
        "Without knowing it, we have been using a function that takes a variable number of arguments and a keyword argument: The function `print`.\n",
        "\n",
        "Change the following code so that the following is printed\n",
        "`0 zero * 1 one * 2 two * 3 three * `"
      ],
      "metadata": {
        "id": "57YRJcyLPijB"
      }
    },
    {
      "cell_type": "code",
      "source": [],
      "metadata": {
        "id": "vGBYrb94iz3v"
      },
      "execution_count": null,
      "outputs": []
    },
    {
      "cell_type": "code",
      "source": [
        "lst = ['zero', 'one', 'two', 'three']\n",
        "for i in range(len(lst)):\n",
        "  print( i, lst[i], end =' * ')\n",
        "print()"
      ],
      "metadata": {
        "id": "8IRG_zw8UVq6",
        "outputId": "acaed9ae-a4ed-4ef2-f4b5-8fd591f33faa",
        "colab": {
          "base_uri": "https://localhost:8080/"
        }
      },
      "execution_count": 11,
      "outputs": [
        {
          "output_type": "stream",
          "name": "stdout",
          "text": [
            "0 zero * 1 one * 2 two * 3 three * \n"
          ]
        }
      ]
    },
    {
      "cell_type": "markdown",
      "source": [
        "What is the keyword argument used here?"
      ],
      "metadata": {
        "id": "7XXIuJ4IVR54"
      }
    },
    {
      "cell_type": "markdown",
      "source": [
        "*end=' * '*\\\n",
        "is a keyword argument"
      ],
      "metadata": {
        "id": "cq0cST5ijGsB"
      }
    },
    {
      "cell_type": "markdown",
      "source": [
        "### Mutable Function Arguments"
      ],
      "metadata": {
        "id": "fdj5XQD5SrQ4"
      }
    },
    {
      "cell_type": "markdown",
      "source": [
        "So far, we have seen functions that take one or more arguments and return one or more values. If the function arguments are mutable, another option is to change the value of the arguments.\n",
        "\n",
        "Complete the following function so that is sets all negative values in the list to zero."
      ],
      "metadata": {
        "id": "0cRqmmd1g3k1"
      }
    },
    {
      "cell_type": "code",
      "source": [
        "def reset_negative(lst):\n",
        "  for index, item in enumerate(lst):\n",
        "    if item < 0:\n",
        "      lst[index] = 0\n",
        "\n",
        "values = [4, 0, -3, 5, 1, -1]\n",
        "reset_negative(values)\n",
        "print(values)                  # [4, 0, 0, 5, 1, 0]"
      ],
      "metadata": {
        "id": "-8g5O0FPitDE",
        "outputId": "78a60577-0009-4cd6-aa11-ba32b58f843d",
        "colab": {
          "base_uri": "https://localhost:8080/"
        }
      },
      "execution_count": 16,
      "outputs": [
        {
          "output_type": "stream",
          "name": "stdout",
          "text": [
            "[4, 0, 0, 5, 1, 0]\n"
          ]
        }
      ]
    },
    {
      "cell_type": "markdown",
      "source": [
        "Did you remember to use the function parameter `lst` and not the global variable `values` in the function?\n",
        "\n",
        "## Exercises\n",
        "Now solve the following\n",
        "\n",
        "* Write a function that takes a word (a string) and returns the same word but with asterisks between each letter."
      ],
      "metadata": {
        "id": "al5dm4VWmDCB"
      }
    },
    {
      "cell_type": "code",
      "source": [
        "word = 'super'\n",
        "new_word = with_emphasis(word)\n",
        "print(new_word)                         # s*u*p*e*r\n",
        "other_word = 'perfect'\n",
        "newer_word = with_emphasis(other_word)  # p*e*r*f*e*c*t\n",
        "print(newer_word)"
      ],
      "metadata": {
        "id": "NOFU-JpF4y88"
      },
      "execution_count": null,
      "outputs": []
    },
    {
      "cell_type": "markdown",
      "source": [
        "* Write a function that takes two lists of the same length and returns a new list of the same length. Each element of the new list is the sum of the elements from the two lists, on the same position. The lists should be added element-wise."
      ],
      "metadata": {
        "id": "zmA8NwHO99_b"
      }
    },
    {
      "cell_type": "code",
      "source": [
        "lst1 = [1, 1, 2, 2, 3, 3]\n",
        "lst2 = [0, 1, 2, 3, 4, 5]\n",
        "the_sum = add_elementwise(lst1, lst2)\n",
        "print(the_sum)                         # [1, 2, 4, 5, 7, 8]\n",
        "L1 = [1, 1, 1, 4, 4]\n",
        "L2 = [3, 5, 6, 0, -1]\n",
        "total = add_elementwise(L1, L2)\n",
        "print(total)                           # [4, 6, 7, 4, 3]"
      ],
      "metadata": {
        "id": "9uU0LDEn-VMM"
      },
      "execution_count": null,
      "outputs": []
    },
    {
      "cell_type": "markdown",
      "source": [
        "* Write a function `multiply` that multiplies the numbers in a list with a given value. If no value is given, the numbers should be multiplied by 2."
      ],
      "metadata": {
        "id": "wR1duFvJ46RB"
      }
    },
    {
      "cell_type": "code",
      "source": [
        "def multiply(lst, number=2):\n",
        "    for index, item in enumerate(lst):\n",
        "        lst[index] = item * number\n",
        "\n",
        "values = [1, 3, 2, 1, 4, 0]\n",
        "multiply(values, 8)            # Multiply by 8\n",
        "print(values)                  # [8, 24, 16, 8, 32, 0]\n",
        "numbers = [9, 2, 12, 4, -2]\n",
        "multiply(numbers)              # Multiply by 2\n",
        "print(numbers)                 # [18, 4, 24, 8, -4]"
      ],
      "metadata": {
        "id": "ZHYddI4Y7qbj",
        "outputId": "e3778599-6fcd-4427-9670-fad83bfb256f",
        "colab": {
          "base_uri": "https://localhost:8080/"
        }
      },
      "execution_count": 19,
      "outputs": [
        {
          "output_type": "stream",
          "name": "stdout",
          "text": [
            "[8, 24, 16, 8, 32, 0]\n",
            "[18, 4, 24, 8, -4]\n"
          ]
        }
      ]
    }
  ]
}